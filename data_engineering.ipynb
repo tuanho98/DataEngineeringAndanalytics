{
  "nbformat": 4,
  "nbformat_minor": 0,
  "metadata": {
    "colab": {
      "name": "data_engineering.ipynb",
      "provenance": []
    },
    "kernelspec": {
      "name": "python3",
      "display_name": "Python 3"
    },
    "language_info": {
      "name": "python"
    }
  },
  "cells": [
    {
      "cell_type": "code",
      "execution_count": null,
      "metadata": {
        "id": "fpPFKP0-1nwR"
      },
      "outputs": [],
      "source": [
        "import pandas as pd\n",
        "\n",
        "#Get dataframe\n",
        "Constituent_Info = pd.read_csv('https://als-hiring.s3.amazonaws.com/fake_data/2020-07-01_17%3A11%3A00/cons.csv')\n",
        "Constituent_Emails = pd.read_csv('https://als-hiring.s3.amazonaws.com/fake_data/2020-07-01_17%3A11%3A00/cons_email.csv')\n",
        "Constituent_Subscription_Status = pd.read_csv('https://als-hiring.s3.amazonaws.com/fake_data/2020-07-01_17%3A11%3A00/cons_email_chapter_subscription.csv')"
      ]
    },
    {
      "cell_type": "markdown",
      "source": [
        "**People data frame**"
      ],
      "metadata": {
        "id": "TFNRPW0PdaGb"
      }
    },
    {
      "cell_type": "code",
      "source": [
        "from numpy import NaN\n",
        "## Check the general veracity of the data\n",
        "## Make sure that all of email in the Constituent_Emails datafram are unique\n",
        "len(Constituent_Emails.email.unique())\n",
        "## Check to make sure the emails are not null, nan, NaN, or ''\n",
        "# print(Constituent_Emails.email.value_counts()[NaN])"
      ],
      "metadata": {
        "colab": {
          "base_uri": "https://localhost:8080/"
        },
        "id": "gDwNJdLRAbRE",
        "outputId": "50ae82ce-ea85-47b3-9c52-ab10dc57f857"
      },
      "execution_count": null,
      "outputs": [
        {
          "output_type": "execute_result",
          "data": {
            "text/plain": [
              "1400000"
            ]
          },
          "metadata": {},
          "execution_count": 5
        }
      ]
    },
    {
      "cell_type": "code",
      "source": [
        "#People table\n",
        "#Becasue we have column is_unsub (Is the primary email address unsubscribed?) --> only get primary email\n",
        "#Merger the first two data frame to get constituents' info and emails\n",
        "#We want to keep all the emails so we do a right join (email df is on the right)\n",
        "cons_info_email = pd.merge(Constituent_Info[['cons_id', 'create_dt', 'modified_dt', 'source']], Constituent_Emails[Constituent_Emails.is_primary == 1][['cons_id','email','cons_email_id']], how='right', on=['cons_id'])"
      ],
      "metadata": {
        "id": "F5IqnC2XRWjh"
      },
      "execution_count": null,
      "outputs": []
    },
    {
      "cell_type": "code",
      "source": [
        "#Merge the obove data frame with the subscription status df to get constituents' info, email, and status.\n",
        "#Becasue We only care about subscription statuses where chapter_id is 1 => filter subscription df to satisfy this condition\n",
        "#If an email is not present in this table, it is assumed to still be subscribed where chapter_id is 1 => keep all emails => join on the opposite sign of the subscription df\n",
        "cons_info_email_sub = pd.merge(Constituent_Subscription_Status[Constituent_Subscription_Status.chapter_id == 1][['cons_email_id', 'isunsub']], cons_info_email, how='right', on=['cons_email_id'])"
      ],
      "metadata": {
        "id": "EFKRai02aJzy"
      },
      "execution_count": null,
      "outputs": []
    },
    {
      "cell_type": "code",
      "source": [
        "#Drop unrequired column:\n",
        "people = cons_info_email_sub.drop(columns =['cons_id', 'cons_email_id'])"
      ],
      "metadata": {
        "id": "7orS0ZREc3m_"
      },
      "execution_count": null,
      "outputs": []
    },
    {
      "cell_type": "code",
      "source": [
        "#Check the data type of people data frame.\n",
        "people.dtypes"
      ],
      "metadata": {
        "colab": {
          "base_uri": "https://localhost:8080/"
        },
        "id": "QERFbDBOekgW",
        "outputId": "433c4ac1-3178-41a3-8e24-882c43189c57"
      },
      "execution_count": null,
      "outputs": [
        {
          "output_type": "execute_result",
          "data": {
            "text/plain": [
              "isunsub        float64\n",
              "create_dt       object\n",
              "modified_dt     object\n",
              "source          object\n",
              "email           object\n",
              "dtype: object"
            ]
          },
          "metadata": {},
          "execution_count": 31
        }
      ]
    },
    {
      "cell_type": "code",
      "source": [
        "# we can see this column has only 2 values: 1 and NaN\n",
        "people['isunsub'].nunique()"
      ],
      "metadata": {
        "colab": {
          "base_uri": "https://localhost:8080/"
        },
        "id": "HSL666Qkg3qE",
        "outputId": "2f3d3861-5c7b-4dac-a8df-b823fdfee88b"
      },
      "execution_count": null,
      "outputs": [
        {
          "output_type": "execute_result",
          "data": {
            "text/plain": [
              "2"
            ]
          },
          "metadata": {},
          "execution_count": 32
        }
      ]
    },
    {
      "cell_type": "code",
      "source": [
        "#change 1 to true , NaN to false:\n",
        "people[\"isunsub\"].fillna(False,inplace=True)\n",
        "people.replace({'isunsub': {1.0: True}}, inplace = True)\n",
        "people['isunsub'] = people['isunsub'].astype('bool')"
      ],
      "metadata": {
        "id": "gzWkLP6XhmTE"
      },
      "execution_count": null,
      "outputs": []
    },
    {
      "cell_type": "code",
      "source": [
        "people['create_dt'] = people['create_dt'].astype('datetime64[ns]')\n",
        "people['modified_dt'] = people['modified_dt'].astype('datetime64[ns]')"
      ],
      "metadata": {
        "id": "7sUdZIVokMmc"
      },
      "execution_count": null,
      "outputs": []
    },
    {
      "cell_type": "code",
      "source": [
        "# Change source and email to string\n",
        "people[\"source\"].fillna(\"Unknown\",inplace=True)\n",
        "people['source'] = people['source'].astype('string')\n",
        "people['email'] = people['email'].astype('string')"
      ],
      "metadata": {
        "id": "suEwSwNVmGZa"
      },
      "execution_count": null,
      "outputs": []
    },
    {
      "cell_type": "code",
      "source": [
        "people"
      ],
      "metadata": {
        "colab": {
          "base_uri": "https://localhost:8080/",
          "height": 419
        },
        "id": "NHLA0QdBmoDz",
        "outputId": "8bb083ef-12cb-4fee-ccd2-9b5ff5861d64"
      },
      "execution_count": null,
      "outputs": [
        {
          "output_type": "execute_result",
          "data": {
            "text/plain": [
              "        isunsub           create_dt         modified_dt   source  \\\n",
              "0         False 1997-09-30 01:41:35 1981-02-26 19:36:22  Unknown   \n",
              "1         False 2014-03-27 23:18:18 2012-12-10 18:46:32   google   \n",
              "2          True 1992-06-01 06:07:45 1986-07-28 03:41:12  Unknown   \n",
              "3          True 1993-05-23 08:00:18 1983-05-07 09:29:18  Unknown   \n",
              "4          True 1986-10-31 03:24:05 1979-09-22 05:01:01  twitter   \n",
              "...         ...                 ...                 ...      ...   \n",
              "605634    False 1993-01-01 11:27:41 1978-11-25 23:47:50   google   \n",
              "605635    False 1979-02-07 03:11:36 1993-02-04 21:29:28  Unknown   \n",
              "605636    False 2007-05-09 20:39:24 1993-05-10 02:58:28   google   \n",
              "605637    False 1985-10-13 06:19:47 2019-02-17 20:19:53  organic   \n",
              "605638    False 1992-08-20 08:34:50 1984-04-07 02:47:04  Unknown   \n",
              "\n",
              "                               email  \n",
              "0              xmartinez@vincent.com  \n",
              "1                 hmiller@haynes.biz  \n",
              "2                  aaron64@yahoo.com  \n",
              "3           wyattvincent@hotmail.com  \n",
              "4               tspencer@hotmail.com  \n",
              "...                              ...  \n",
              "605634      smallmelvin@mitchell.com  \n",
              "605635  gardnerchristian@hotmail.com  \n",
              "605636          ginanguyen@munoz.com  \n",
              "605637          tatenicole@yahoo.com  \n",
              "605638           creyes@gonzalez.com  \n",
              "\n",
              "[605639 rows x 5 columns]"
            ],
            "text/html": [
              "\n",
              "  <div id=\"df-32e42ace-97a8-42e5-8ff8-bd13a0dd6912\">\n",
              "    <div class=\"colab-df-container\">\n",
              "      <div>\n",
              "<style scoped>\n",
              "    .dataframe tbody tr th:only-of-type {\n",
              "        vertical-align: middle;\n",
              "    }\n",
              "\n",
              "    .dataframe tbody tr th {\n",
              "        vertical-align: top;\n",
              "    }\n",
              "\n",
              "    .dataframe thead th {\n",
              "        text-align: right;\n",
              "    }\n",
              "</style>\n",
              "<table border=\"1\" class=\"dataframe\">\n",
              "  <thead>\n",
              "    <tr style=\"text-align: right;\">\n",
              "      <th></th>\n",
              "      <th>isunsub</th>\n",
              "      <th>create_dt</th>\n",
              "      <th>modified_dt</th>\n",
              "      <th>source</th>\n",
              "      <th>email</th>\n",
              "    </tr>\n",
              "  </thead>\n",
              "  <tbody>\n",
              "    <tr>\n",
              "      <th>0</th>\n",
              "      <td>False</td>\n",
              "      <td>1997-09-30 01:41:35</td>\n",
              "      <td>1981-02-26 19:36:22</td>\n",
              "      <td>Unknown</td>\n",
              "      <td>xmartinez@vincent.com</td>\n",
              "    </tr>\n",
              "    <tr>\n",
              "      <th>1</th>\n",
              "      <td>False</td>\n",
              "      <td>2014-03-27 23:18:18</td>\n",
              "      <td>2012-12-10 18:46:32</td>\n",
              "      <td>google</td>\n",
              "      <td>hmiller@haynes.biz</td>\n",
              "    </tr>\n",
              "    <tr>\n",
              "      <th>2</th>\n",
              "      <td>True</td>\n",
              "      <td>1992-06-01 06:07:45</td>\n",
              "      <td>1986-07-28 03:41:12</td>\n",
              "      <td>Unknown</td>\n",
              "      <td>aaron64@yahoo.com</td>\n",
              "    </tr>\n",
              "    <tr>\n",
              "      <th>3</th>\n",
              "      <td>True</td>\n",
              "      <td>1993-05-23 08:00:18</td>\n",
              "      <td>1983-05-07 09:29:18</td>\n",
              "      <td>Unknown</td>\n",
              "      <td>wyattvincent@hotmail.com</td>\n",
              "    </tr>\n",
              "    <tr>\n",
              "      <th>4</th>\n",
              "      <td>True</td>\n",
              "      <td>1986-10-31 03:24:05</td>\n",
              "      <td>1979-09-22 05:01:01</td>\n",
              "      <td>twitter</td>\n",
              "      <td>tspencer@hotmail.com</td>\n",
              "    </tr>\n",
              "    <tr>\n",
              "      <th>...</th>\n",
              "      <td>...</td>\n",
              "      <td>...</td>\n",
              "      <td>...</td>\n",
              "      <td>...</td>\n",
              "      <td>...</td>\n",
              "    </tr>\n",
              "    <tr>\n",
              "      <th>605634</th>\n",
              "      <td>False</td>\n",
              "      <td>1993-01-01 11:27:41</td>\n",
              "      <td>1978-11-25 23:47:50</td>\n",
              "      <td>google</td>\n",
              "      <td>smallmelvin@mitchell.com</td>\n",
              "    </tr>\n",
              "    <tr>\n",
              "      <th>605635</th>\n",
              "      <td>False</td>\n",
              "      <td>1979-02-07 03:11:36</td>\n",
              "      <td>1993-02-04 21:29:28</td>\n",
              "      <td>Unknown</td>\n",
              "      <td>gardnerchristian@hotmail.com</td>\n",
              "    </tr>\n",
              "    <tr>\n",
              "      <th>605636</th>\n",
              "      <td>False</td>\n",
              "      <td>2007-05-09 20:39:24</td>\n",
              "      <td>1993-05-10 02:58:28</td>\n",
              "      <td>google</td>\n",
              "      <td>ginanguyen@munoz.com</td>\n",
              "    </tr>\n",
              "    <tr>\n",
              "      <th>605637</th>\n",
              "      <td>False</td>\n",
              "      <td>1985-10-13 06:19:47</td>\n",
              "      <td>2019-02-17 20:19:53</td>\n",
              "      <td>organic</td>\n",
              "      <td>tatenicole@yahoo.com</td>\n",
              "    </tr>\n",
              "    <tr>\n",
              "      <th>605638</th>\n",
              "      <td>False</td>\n",
              "      <td>1992-08-20 08:34:50</td>\n",
              "      <td>1984-04-07 02:47:04</td>\n",
              "      <td>Unknown</td>\n",
              "      <td>creyes@gonzalez.com</td>\n",
              "    </tr>\n",
              "  </tbody>\n",
              "</table>\n",
              "<p>605639 rows × 5 columns</p>\n",
              "</div>\n",
              "      <button class=\"colab-df-convert\" onclick=\"convertToInteractive('df-32e42ace-97a8-42e5-8ff8-bd13a0dd6912')\"\n",
              "              title=\"Convert this dataframe to an interactive table.\"\n",
              "              style=\"display:none;\">\n",
              "        \n",
              "  <svg xmlns=\"http://www.w3.org/2000/svg\" height=\"24px\"viewBox=\"0 0 24 24\"\n",
              "       width=\"24px\">\n",
              "    <path d=\"M0 0h24v24H0V0z\" fill=\"none\"/>\n",
              "    <path d=\"M18.56 5.44l.94 2.06.94-2.06 2.06-.94-2.06-.94-.94-2.06-.94 2.06-2.06.94zm-11 1L8.5 8.5l.94-2.06 2.06-.94-2.06-.94L8.5 2.5l-.94 2.06-2.06.94zm10 10l.94 2.06.94-2.06 2.06-.94-2.06-.94-.94-2.06-.94 2.06-2.06.94z\"/><path d=\"M17.41 7.96l-1.37-1.37c-.4-.4-.92-.59-1.43-.59-.52 0-1.04.2-1.43.59L10.3 9.45l-7.72 7.72c-.78.78-.78 2.05 0 2.83L4 21.41c.39.39.9.59 1.41.59.51 0 1.02-.2 1.41-.59l7.78-7.78 2.81-2.81c.8-.78.8-2.07 0-2.86zM5.41 20L4 18.59l7.72-7.72 1.47 1.35L5.41 20z\"/>\n",
              "  </svg>\n",
              "      </button>\n",
              "      \n",
              "  <style>\n",
              "    .colab-df-container {\n",
              "      display:flex;\n",
              "      flex-wrap:wrap;\n",
              "      gap: 12px;\n",
              "    }\n",
              "\n",
              "    .colab-df-convert {\n",
              "      background-color: #E8F0FE;\n",
              "      border: none;\n",
              "      border-radius: 50%;\n",
              "      cursor: pointer;\n",
              "      display: none;\n",
              "      fill: #1967D2;\n",
              "      height: 32px;\n",
              "      padding: 0 0 0 0;\n",
              "      width: 32px;\n",
              "    }\n",
              "\n",
              "    .colab-df-convert:hover {\n",
              "      background-color: #E2EBFA;\n",
              "      box-shadow: 0px 1px 2px rgba(60, 64, 67, 0.3), 0px 1px 3px 1px rgba(60, 64, 67, 0.15);\n",
              "      fill: #174EA6;\n",
              "    }\n",
              "\n",
              "    [theme=dark] .colab-df-convert {\n",
              "      background-color: #3B4455;\n",
              "      fill: #D2E3FC;\n",
              "    }\n",
              "\n",
              "    [theme=dark] .colab-df-convert:hover {\n",
              "      background-color: #434B5C;\n",
              "      box-shadow: 0px 1px 3px 1px rgba(0, 0, 0, 0.15);\n",
              "      filter: drop-shadow(0px 1px 2px rgba(0, 0, 0, 0.3));\n",
              "      fill: #FFFFFF;\n",
              "    }\n",
              "  </style>\n",
              "\n",
              "      <script>\n",
              "        const buttonEl =\n",
              "          document.querySelector('#df-32e42ace-97a8-42e5-8ff8-bd13a0dd6912 button.colab-df-convert');\n",
              "        buttonEl.style.display =\n",
              "          google.colab.kernel.accessAllowed ? 'block' : 'none';\n",
              "\n",
              "        async function convertToInteractive(key) {\n",
              "          const element = document.querySelector('#df-32e42ace-97a8-42e5-8ff8-bd13a0dd6912');\n",
              "          const dataTable =\n",
              "            await google.colab.kernel.invokeFunction('convertToInteractive',\n",
              "                                                     [key], {});\n",
              "          if (!dataTable) return;\n",
              "\n",
              "          const docLinkHtml = 'Like what you see? Visit the ' +\n",
              "            '<a target=\"_blank\" href=https://colab.research.google.com/notebooks/data_table.ipynb>data table notebook</a>'\n",
              "            + ' to learn more about interactive tables.';\n",
              "          element.innerHTML = '';\n",
              "          dataTable['output_type'] = 'display_data';\n",
              "          await google.colab.output.renderOutput(dataTable, element);\n",
              "          const docLink = document.createElement('div');\n",
              "          docLink.innerHTML = docLinkHtml;\n",
              "          element.appendChild(docLink);\n",
              "        }\n",
              "      </script>\n",
              "    </div>\n",
              "  </div>\n",
              "  "
            ]
          },
          "metadata": {},
          "execution_count": 55
        }
      ]
    },
    {
      "cell_type": "code",
      "source": [
        "# Data types are now as required.\n",
        "people.dtypes"
      ],
      "metadata": {
        "colab": {
          "base_uri": "https://localhost:8080/"
        },
        "id": "wU9VZBiWi4K1",
        "outputId": "460f514e-0484-4a7d-eb5b-069010c48c60"
      },
      "execution_count": null,
      "outputs": [
        {
          "output_type": "execute_result",
          "data": {
            "text/plain": [
              "isunsub                  bool\n",
              "create_dt      datetime64[ns]\n",
              "modified_dt    datetime64[ns]\n",
              "source                 string\n",
              "email                  string\n",
              "dtype: object"
            ]
          },
          "metadata": {},
          "execution_count": 56
        }
      ]
    },
    {
      "cell_type": "code",
      "source": [
        "#Change column name and order as required:\n",
        "people.rename(columns = {'email':'email', 'source':'code', 'isunsub':'is_unsub','create_dt':'created_dt','modified_dt':'updated_dt'}, inplace = True)\n",
        "people = people[['email', 'code', 'is_unsub', 'created_dt', 'updated_dt']]"
      ],
      "metadata": {
        "id": "s6ueXbhskLSE"
      },
      "execution_count": null,
      "outputs": []
    },
    {
      "cell_type": "code",
      "source": [
        "people"
      ],
      "metadata": {
        "colab": {
          "base_uri": "https://localhost:8080/",
          "height": 419
        },
        "id": "DA0nHZ1BpPLm",
        "outputId": "bd020e51-e64b-41f3-fc42-705c64d08f7a"
      },
      "execution_count": null,
      "outputs": [
        {
          "output_type": "execute_result",
          "data": {
            "text/plain": [
              "                               email     code  is_unsub          created_dt  \\\n",
              "0              xmartinez@vincent.com  Unknown     False 1997-09-30 01:41:35   \n",
              "1                 hmiller@haynes.biz   google     False 2014-03-27 23:18:18   \n",
              "2                  aaron64@yahoo.com  Unknown      True 1992-06-01 06:07:45   \n",
              "3           wyattvincent@hotmail.com  Unknown      True 1993-05-23 08:00:18   \n",
              "4               tspencer@hotmail.com  twitter      True 1986-10-31 03:24:05   \n",
              "...                              ...      ...       ...                 ...   \n",
              "605634      smallmelvin@mitchell.com   google     False 1993-01-01 11:27:41   \n",
              "605635  gardnerchristian@hotmail.com  Unknown     False 1979-02-07 03:11:36   \n",
              "605636          ginanguyen@munoz.com   google     False 2007-05-09 20:39:24   \n",
              "605637          tatenicole@yahoo.com  organic     False 1985-10-13 06:19:47   \n",
              "605638           creyes@gonzalez.com  Unknown     False 1992-08-20 08:34:50   \n",
              "\n",
              "                updated_dt  \n",
              "0      1981-02-26 19:36:22  \n",
              "1      2012-12-10 18:46:32  \n",
              "2      1986-07-28 03:41:12  \n",
              "3      1983-05-07 09:29:18  \n",
              "4      1979-09-22 05:01:01  \n",
              "...                    ...  \n",
              "605634 1978-11-25 23:47:50  \n",
              "605635 1993-02-04 21:29:28  \n",
              "605636 1993-05-10 02:58:28  \n",
              "605637 2019-02-17 20:19:53  \n",
              "605638 1984-04-07 02:47:04  \n",
              "\n",
              "[605639 rows x 5 columns]"
            ],
            "text/html": [
              "\n",
              "  <div id=\"df-290cdffd-aa0c-4126-8e0e-6119afd2b61a\">\n",
              "    <div class=\"colab-df-container\">\n",
              "      <div>\n",
              "<style scoped>\n",
              "    .dataframe tbody tr th:only-of-type {\n",
              "        vertical-align: middle;\n",
              "    }\n",
              "\n",
              "    .dataframe tbody tr th {\n",
              "        vertical-align: top;\n",
              "    }\n",
              "\n",
              "    .dataframe thead th {\n",
              "        text-align: right;\n",
              "    }\n",
              "</style>\n",
              "<table border=\"1\" class=\"dataframe\">\n",
              "  <thead>\n",
              "    <tr style=\"text-align: right;\">\n",
              "      <th></th>\n",
              "      <th>email</th>\n",
              "      <th>code</th>\n",
              "      <th>is_unsub</th>\n",
              "      <th>created_dt</th>\n",
              "      <th>updated_dt</th>\n",
              "    </tr>\n",
              "  </thead>\n",
              "  <tbody>\n",
              "    <tr>\n",
              "      <th>0</th>\n",
              "      <td>xmartinez@vincent.com</td>\n",
              "      <td>Unknown</td>\n",
              "      <td>False</td>\n",
              "      <td>1997-09-30 01:41:35</td>\n",
              "      <td>1981-02-26 19:36:22</td>\n",
              "    </tr>\n",
              "    <tr>\n",
              "      <th>1</th>\n",
              "      <td>hmiller@haynes.biz</td>\n",
              "      <td>google</td>\n",
              "      <td>False</td>\n",
              "      <td>2014-03-27 23:18:18</td>\n",
              "      <td>2012-12-10 18:46:32</td>\n",
              "    </tr>\n",
              "    <tr>\n",
              "      <th>2</th>\n",
              "      <td>aaron64@yahoo.com</td>\n",
              "      <td>Unknown</td>\n",
              "      <td>True</td>\n",
              "      <td>1992-06-01 06:07:45</td>\n",
              "      <td>1986-07-28 03:41:12</td>\n",
              "    </tr>\n",
              "    <tr>\n",
              "      <th>3</th>\n",
              "      <td>wyattvincent@hotmail.com</td>\n",
              "      <td>Unknown</td>\n",
              "      <td>True</td>\n",
              "      <td>1993-05-23 08:00:18</td>\n",
              "      <td>1983-05-07 09:29:18</td>\n",
              "    </tr>\n",
              "    <tr>\n",
              "      <th>4</th>\n",
              "      <td>tspencer@hotmail.com</td>\n",
              "      <td>twitter</td>\n",
              "      <td>True</td>\n",
              "      <td>1986-10-31 03:24:05</td>\n",
              "      <td>1979-09-22 05:01:01</td>\n",
              "    </tr>\n",
              "    <tr>\n",
              "      <th>...</th>\n",
              "      <td>...</td>\n",
              "      <td>...</td>\n",
              "      <td>...</td>\n",
              "      <td>...</td>\n",
              "      <td>...</td>\n",
              "    </tr>\n",
              "    <tr>\n",
              "      <th>605634</th>\n",
              "      <td>smallmelvin@mitchell.com</td>\n",
              "      <td>google</td>\n",
              "      <td>False</td>\n",
              "      <td>1993-01-01 11:27:41</td>\n",
              "      <td>1978-11-25 23:47:50</td>\n",
              "    </tr>\n",
              "    <tr>\n",
              "      <th>605635</th>\n",
              "      <td>gardnerchristian@hotmail.com</td>\n",
              "      <td>Unknown</td>\n",
              "      <td>False</td>\n",
              "      <td>1979-02-07 03:11:36</td>\n",
              "      <td>1993-02-04 21:29:28</td>\n",
              "    </tr>\n",
              "    <tr>\n",
              "      <th>605636</th>\n",
              "      <td>ginanguyen@munoz.com</td>\n",
              "      <td>google</td>\n",
              "      <td>False</td>\n",
              "      <td>2007-05-09 20:39:24</td>\n",
              "      <td>1993-05-10 02:58:28</td>\n",
              "    </tr>\n",
              "    <tr>\n",
              "      <th>605637</th>\n",
              "      <td>tatenicole@yahoo.com</td>\n",
              "      <td>organic</td>\n",
              "      <td>False</td>\n",
              "      <td>1985-10-13 06:19:47</td>\n",
              "      <td>2019-02-17 20:19:53</td>\n",
              "    </tr>\n",
              "    <tr>\n",
              "      <th>605638</th>\n",
              "      <td>creyes@gonzalez.com</td>\n",
              "      <td>Unknown</td>\n",
              "      <td>False</td>\n",
              "      <td>1992-08-20 08:34:50</td>\n",
              "      <td>1984-04-07 02:47:04</td>\n",
              "    </tr>\n",
              "  </tbody>\n",
              "</table>\n",
              "<p>605639 rows × 5 columns</p>\n",
              "</div>\n",
              "      <button class=\"colab-df-convert\" onclick=\"convertToInteractive('df-290cdffd-aa0c-4126-8e0e-6119afd2b61a')\"\n",
              "              title=\"Convert this dataframe to an interactive table.\"\n",
              "              style=\"display:none;\">\n",
              "        \n",
              "  <svg xmlns=\"http://www.w3.org/2000/svg\" height=\"24px\"viewBox=\"0 0 24 24\"\n",
              "       width=\"24px\">\n",
              "    <path d=\"M0 0h24v24H0V0z\" fill=\"none\"/>\n",
              "    <path d=\"M18.56 5.44l.94 2.06.94-2.06 2.06-.94-2.06-.94-.94-2.06-.94 2.06-2.06.94zm-11 1L8.5 8.5l.94-2.06 2.06-.94-2.06-.94L8.5 2.5l-.94 2.06-2.06.94zm10 10l.94 2.06.94-2.06 2.06-.94-2.06-.94-.94-2.06-.94 2.06-2.06.94z\"/><path d=\"M17.41 7.96l-1.37-1.37c-.4-.4-.92-.59-1.43-.59-.52 0-1.04.2-1.43.59L10.3 9.45l-7.72 7.72c-.78.78-.78 2.05 0 2.83L4 21.41c.39.39.9.59 1.41.59.51 0 1.02-.2 1.41-.59l7.78-7.78 2.81-2.81c.8-.78.8-2.07 0-2.86zM5.41 20L4 18.59l7.72-7.72 1.47 1.35L5.41 20z\"/>\n",
              "  </svg>\n",
              "      </button>\n",
              "      \n",
              "  <style>\n",
              "    .colab-df-container {\n",
              "      display:flex;\n",
              "      flex-wrap:wrap;\n",
              "      gap: 12px;\n",
              "    }\n",
              "\n",
              "    .colab-df-convert {\n",
              "      background-color: #E8F0FE;\n",
              "      border: none;\n",
              "      border-radius: 50%;\n",
              "      cursor: pointer;\n",
              "      display: none;\n",
              "      fill: #1967D2;\n",
              "      height: 32px;\n",
              "      padding: 0 0 0 0;\n",
              "      width: 32px;\n",
              "    }\n",
              "\n",
              "    .colab-df-convert:hover {\n",
              "      background-color: #E2EBFA;\n",
              "      box-shadow: 0px 1px 2px rgba(60, 64, 67, 0.3), 0px 1px 3px 1px rgba(60, 64, 67, 0.15);\n",
              "      fill: #174EA6;\n",
              "    }\n",
              "\n",
              "    [theme=dark] .colab-df-convert {\n",
              "      background-color: #3B4455;\n",
              "      fill: #D2E3FC;\n",
              "    }\n",
              "\n",
              "    [theme=dark] .colab-df-convert:hover {\n",
              "      background-color: #434B5C;\n",
              "      box-shadow: 0px 1px 3px 1px rgba(0, 0, 0, 0.15);\n",
              "      filter: drop-shadow(0px 1px 2px rgba(0, 0, 0, 0.3));\n",
              "      fill: #FFFFFF;\n",
              "    }\n",
              "  </style>\n",
              "\n",
              "      <script>\n",
              "        const buttonEl =\n",
              "          document.querySelector('#df-290cdffd-aa0c-4126-8e0e-6119afd2b61a button.colab-df-convert');\n",
              "        buttonEl.style.display =\n",
              "          google.colab.kernel.accessAllowed ? 'block' : 'none';\n",
              "\n",
              "        async function convertToInteractive(key) {\n",
              "          const element = document.querySelector('#df-290cdffd-aa0c-4126-8e0e-6119afd2b61a');\n",
              "          const dataTable =\n",
              "            await google.colab.kernel.invokeFunction('convertToInteractive',\n",
              "                                                     [key], {});\n",
              "          if (!dataTable) return;\n",
              "\n",
              "          const docLinkHtml = 'Like what you see? Visit the ' +\n",
              "            '<a target=\"_blank\" href=https://colab.research.google.com/notebooks/data_table.ipynb>data table notebook</a>'\n",
              "            + ' to learn more about interactive tables.';\n",
              "          element.innerHTML = '';\n",
              "          dataTable['output_type'] = 'display_data';\n",
              "          await google.colab.output.renderOutput(dataTable, element);\n",
              "          const docLink = document.createElement('div');\n",
              "          docLink.innerHTML = docLinkHtml;\n",
              "          element.appendChild(docLink);\n",
              "        }\n",
              "      </script>\n",
              "    </div>\n",
              "  </div>\n",
              "  "
            ]
          },
          "metadata": {},
          "execution_count": 58
        }
      ]
    },
    {
      "cell_type": "code",
      "source": [
        "people.to_csv('people.csv', index = False)"
      ],
      "metadata": {
        "id": "U5R9KdoIpXvt"
      },
      "execution_count": null,
      "outputs": []
    },
    {
      "cell_type": "markdown",
      "source": [
        "**acquisition_facts table**"
      ],
      "metadata": {
        "id": "tXFcrpegqWsE"
      }
    },
    {
      "cell_type": "code",
      "source": [
        "#Get only the created date from people df\n",
        "acquisition_data = people[['created_dt']]\n",
        "acquisition_data = people[['created_dt']].created_dt.dt.date"
      ],
      "metadata": {
        "id": "0l8g2tZFpr_c"
      },
      "execution_count": 91,
      "outputs": []
    },
    {
      "cell_type": "code",
      "source": [
        "# Count the number of unique dates\n",
        "acquisition_fact= acquisition_data.value_counts().reset_index().rename(columns = {\"created_dt\": 'acquisitions', \"index\": 'acquisition_date'})"
      ],
      "metadata": {
        "id": "G1cDtLySszY7"
      },
      "execution_count": 114,
      "outputs": []
    },
    {
      "cell_type": "code",
      "source": [
        "acquisition_fact"
      ],
      "metadata": {
        "colab": {
          "base_uri": "https://localhost:8080/",
          "height": 419
        },
        "id": "_-4Grl2br9pO",
        "outputId": "cdc733d3-2236-41ab-b9cc-b7ba08c7250b"
      },
      "execution_count": 115,
      "outputs": [
        {
          "output_type": "execute_result",
          "data": {
            "text/plain": [
              "      acquisition_date  acquisitions\n",
              "0           1989-05-03            57\n",
              "1           1997-03-11            56\n",
              "2           1976-05-27            55\n",
              "3           1987-08-29            55\n",
              "4           2014-09-06            54\n",
              "...                ...           ...\n",
              "18440       1978-07-11            15\n",
              "18441       1985-03-21            15\n",
              "18442       2004-04-13            14\n",
              "18443       2013-03-03            14\n",
              "18444       1972-06-02            13\n",
              "\n",
              "[18445 rows x 2 columns]"
            ],
            "text/html": [
              "\n",
              "  <div id=\"df-8ffde9b1-f8c0-448a-be8a-2fcd852f5423\">\n",
              "    <div class=\"colab-df-container\">\n",
              "      <div>\n",
              "<style scoped>\n",
              "    .dataframe tbody tr th:only-of-type {\n",
              "        vertical-align: middle;\n",
              "    }\n",
              "\n",
              "    .dataframe tbody tr th {\n",
              "        vertical-align: top;\n",
              "    }\n",
              "\n",
              "    .dataframe thead th {\n",
              "        text-align: right;\n",
              "    }\n",
              "</style>\n",
              "<table border=\"1\" class=\"dataframe\">\n",
              "  <thead>\n",
              "    <tr style=\"text-align: right;\">\n",
              "      <th></th>\n",
              "      <th>acquisition_date</th>\n",
              "      <th>acquisitions</th>\n",
              "    </tr>\n",
              "  </thead>\n",
              "  <tbody>\n",
              "    <tr>\n",
              "      <th>0</th>\n",
              "      <td>1989-05-03</td>\n",
              "      <td>57</td>\n",
              "    </tr>\n",
              "    <tr>\n",
              "      <th>1</th>\n",
              "      <td>1997-03-11</td>\n",
              "      <td>56</td>\n",
              "    </tr>\n",
              "    <tr>\n",
              "      <th>2</th>\n",
              "      <td>1976-05-27</td>\n",
              "      <td>55</td>\n",
              "    </tr>\n",
              "    <tr>\n",
              "      <th>3</th>\n",
              "      <td>1987-08-29</td>\n",
              "      <td>55</td>\n",
              "    </tr>\n",
              "    <tr>\n",
              "      <th>4</th>\n",
              "      <td>2014-09-06</td>\n",
              "      <td>54</td>\n",
              "    </tr>\n",
              "    <tr>\n",
              "      <th>...</th>\n",
              "      <td>...</td>\n",
              "      <td>...</td>\n",
              "    </tr>\n",
              "    <tr>\n",
              "      <th>18440</th>\n",
              "      <td>1978-07-11</td>\n",
              "      <td>15</td>\n",
              "    </tr>\n",
              "    <tr>\n",
              "      <th>18441</th>\n",
              "      <td>1985-03-21</td>\n",
              "      <td>15</td>\n",
              "    </tr>\n",
              "    <tr>\n",
              "      <th>18442</th>\n",
              "      <td>2004-04-13</td>\n",
              "      <td>14</td>\n",
              "    </tr>\n",
              "    <tr>\n",
              "      <th>18443</th>\n",
              "      <td>2013-03-03</td>\n",
              "      <td>14</td>\n",
              "    </tr>\n",
              "    <tr>\n",
              "      <th>18444</th>\n",
              "      <td>1972-06-02</td>\n",
              "      <td>13</td>\n",
              "    </tr>\n",
              "  </tbody>\n",
              "</table>\n",
              "<p>18445 rows × 2 columns</p>\n",
              "</div>\n",
              "      <button class=\"colab-df-convert\" onclick=\"convertToInteractive('df-8ffde9b1-f8c0-448a-be8a-2fcd852f5423')\"\n",
              "              title=\"Convert this dataframe to an interactive table.\"\n",
              "              style=\"display:none;\">\n",
              "        \n",
              "  <svg xmlns=\"http://www.w3.org/2000/svg\" height=\"24px\"viewBox=\"0 0 24 24\"\n",
              "       width=\"24px\">\n",
              "    <path d=\"M0 0h24v24H0V0z\" fill=\"none\"/>\n",
              "    <path d=\"M18.56 5.44l.94 2.06.94-2.06 2.06-.94-2.06-.94-.94-2.06-.94 2.06-2.06.94zm-11 1L8.5 8.5l.94-2.06 2.06-.94-2.06-.94L8.5 2.5l-.94 2.06-2.06.94zm10 10l.94 2.06.94-2.06 2.06-.94-2.06-.94-.94-2.06-.94 2.06-2.06.94z\"/><path d=\"M17.41 7.96l-1.37-1.37c-.4-.4-.92-.59-1.43-.59-.52 0-1.04.2-1.43.59L10.3 9.45l-7.72 7.72c-.78.78-.78 2.05 0 2.83L4 21.41c.39.39.9.59 1.41.59.51 0 1.02-.2 1.41-.59l7.78-7.78 2.81-2.81c.8-.78.8-2.07 0-2.86zM5.41 20L4 18.59l7.72-7.72 1.47 1.35L5.41 20z\"/>\n",
              "  </svg>\n",
              "      </button>\n",
              "      \n",
              "  <style>\n",
              "    .colab-df-container {\n",
              "      display:flex;\n",
              "      flex-wrap:wrap;\n",
              "      gap: 12px;\n",
              "    }\n",
              "\n",
              "    .colab-df-convert {\n",
              "      background-color: #E8F0FE;\n",
              "      border: none;\n",
              "      border-radius: 50%;\n",
              "      cursor: pointer;\n",
              "      display: none;\n",
              "      fill: #1967D2;\n",
              "      height: 32px;\n",
              "      padding: 0 0 0 0;\n",
              "      width: 32px;\n",
              "    }\n",
              "\n",
              "    .colab-df-convert:hover {\n",
              "      background-color: #E2EBFA;\n",
              "      box-shadow: 0px 1px 2px rgba(60, 64, 67, 0.3), 0px 1px 3px 1px rgba(60, 64, 67, 0.15);\n",
              "      fill: #174EA6;\n",
              "    }\n",
              "\n",
              "    [theme=dark] .colab-df-convert {\n",
              "      background-color: #3B4455;\n",
              "      fill: #D2E3FC;\n",
              "    }\n",
              "\n",
              "    [theme=dark] .colab-df-convert:hover {\n",
              "      background-color: #434B5C;\n",
              "      box-shadow: 0px 1px 3px 1px rgba(0, 0, 0, 0.15);\n",
              "      filter: drop-shadow(0px 1px 2px rgba(0, 0, 0, 0.3));\n",
              "      fill: #FFFFFF;\n",
              "    }\n",
              "  </style>\n",
              "\n",
              "      <script>\n",
              "        const buttonEl =\n",
              "          document.querySelector('#df-8ffde9b1-f8c0-448a-be8a-2fcd852f5423 button.colab-df-convert');\n",
              "        buttonEl.style.display =\n",
              "          google.colab.kernel.accessAllowed ? 'block' : 'none';\n",
              "\n",
              "        async function convertToInteractive(key) {\n",
              "          const element = document.querySelector('#df-8ffde9b1-f8c0-448a-be8a-2fcd852f5423');\n",
              "          const dataTable =\n",
              "            await google.colab.kernel.invokeFunction('convertToInteractive',\n",
              "                                                     [key], {});\n",
              "          if (!dataTable) return;\n",
              "\n",
              "          const docLinkHtml = 'Like what you see? Visit the ' +\n",
              "            '<a target=\"_blank\" href=https://colab.research.google.com/notebooks/data_table.ipynb>data table notebook</a>'\n",
              "            + ' to learn more about interactive tables.';\n",
              "          element.innerHTML = '';\n",
              "          dataTable['output_type'] = 'display_data';\n",
              "          await google.colab.output.renderOutput(dataTable, element);\n",
              "          const docLink = document.createElement('div');\n",
              "          docLink.innerHTML = docLinkHtml;\n",
              "          element.appendChild(docLink);\n",
              "        }\n",
              "      </script>\n",
              "    </div>\n",
              "  </div>\n",
              "  "
            ]
          },
          "metadata": {},
          "execution_count": 115
        }
      ]
    },
    {
      "cell_type": "code",
      "source": [
        "acquisition_fact.to_csv('acquisition_fact.csv', index = False)"
      ],
      "metadata": {
        "id": "Sk7BCkUqzJlk"
      },
      "execution_count": 118,
      "outputs": []
    }
  ]
}